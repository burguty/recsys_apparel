{
 "cells": [
  {
   "cell_type": "markdown",
   "id": "45e42cba",
   "metadata": {},
   "source": [
    "Сначала создадим матрицу, на которой будет обучение"
   ]
  },
  {
   "cell_type": "code",
   "execution_count": 2,
   "id": "27cb9702",
   "metadata": {},
   "outputs": [],
   "source": [
    "import warnings\n",
    "import torch\n",
    "import matplotlib.pyplot as plt\n",
    "import seaborn as sns\n",
    "import numpy as np\n",
    "import pandas as pd\n",
    "import polars as pl\n",
    "warnings.filterwarnings(\"ignore\")\n",
    "%matplotlib inline"
   ]
  },
  {
   "cell_type": "code",
   "execution_count": 55,
   "id": "4c6c09be",
   "metadata": {},
   "outputs": [],
   "source": [
    "df_logs = pl.scan_parquet(\".\\data\\ml_ozon_recsys_train_final_apparel_tracker_data\\part-00000-582d88ee-8dd6-41f6-9f90-375910468cb7-c000.snappy.parquet\").select([\"user_id\", \"item_id\", \"action_type\"])\n",
    "# df_logs = pl.scan_parquet(\".\\data\\ml_ozon_recsys_train_final_apparel_tracker_data\\*.parquet\").select([\"user_id\", \"item_id\", \"action_type\"])"
   ]
  },
  {
   "cell_type": "code",
   "execution_count": 13,
   "id": "9f3d13b6",
   "metadata": {},
   "outputs": [],
   "source": [
    "# aggregated_logs =  df_logs.with_columns(df_logs.select(\"action_type\").collect().to_dummies()).drop(\"action_type\").group_by([\"user_id\",\"item_id\"]).sum()"
   ]
  },
  {
   "cell_type": "code",
   "execution_count": 56,
   "id": "fa0ecb9f",
   "metadata": {},
   "outputs": [],
   "source": [
    "df_orders = pl.scan_parquet(\".\\data\\ml_ozon_recsys_train_final_apparel_orders_data\\*.parquet\")"
   ]
  },
  {
   "cell_type": "code",
   "execution_count": 57,
   "id": "164c3d6a",
   "metadata": {},
   "outputs": [
    {
     "data": {
      "text/html": [
       "<div><style>\n",
       ".dataframe > thead > tr,\n",
       ".dataframe > tbody > tr {\n",
       "  text-align: right;\n",
       "  white-space: pre-wrap;\n",
       "}\n",
       "</style>\n",
       "<small>shape: (3,)</small><table border=\"1\" class=\"dataframe\"><thead><tr><th>last_status</th></tr><tr><td>str</td></tr></thead><tbody><tr><td>&quot;delivered_orders&quot;</td></tr><tr><td>&quot;proccesed_orders&quot;</td></tr><tr><td>&quot;canceled_orders&quot;</td></tr></tbody></table></div>"
      ],
      "text/plain": [
       "shape: (3,)\n",
       "Series: 'last_status' [str]\n",
       "[\n",
       "\t\"delivered_orders\"\n",
       "\t\"proccesed_orders\"\n",
       "\t\"canceled_orders\"\n",
       "]"
      ]
     },
     "execution_count": 57,
     "metadata": {},
     "output_type": "execute_result"
    }
   ],
   "source": [
    "df_orders.collect()[\"last_status\"].unique()"
   ]
  },
  {
   "cell_type": "code",
   "execution_count": 15,
   "id": "1a8f4b24",
   "metadata": {},
   "outputs": [],
   "source": [
    "# df_logs.select(\"action_type\").collect().unique()"
   ]
  },
  {
   "cell_type": "code",
   "execution_count": null,
   "id": "17981729",
   "metadata": {},
   "outputs": [],
   "source": [
    "aggregated_full_data = (df_logs\n",
    "                        .join(df_orders,[\"item_id\",\"user_id\"], how=\"inner\")\n",
    "                        # .drop(['created_timestamp','last_status_timestamp','created_date'])\n",
    "                        .filter(\"last_status\" != \"delivered_orders\")\n",
    "                        .fill_null(0))\n",
    "\n",
    "\n",
    "aggregated_full_data = (aggregated_full_data.with_columns(\n",
    "                                                (pl.col(\"action_type\") == \"view_description\").cast(pl.Int8).alias(\"action_type_view_description\"),\n",
    "                                                (pl.col(\"action_type\") == \"to_cart\").cast(pl.Int8).alias(\"action_type_to_cart\"),\n",
    "                                                (pl.col(\"action_type\") == \"page_view\").cast(pl.Int8).alias(\"action_type_page_view\"),\n",
    "                                                (pl.col(\"action_type\") == \"favorite\").cast(pl.Int8).alias(\"action_type_favorite\"),\n",
    "                                                (pl.col(\"action_type\") == \"unfavorite\").cast(pl.Int8).alias(\"action_type_unfavorite\"),\n",
    "                                                (pl.col(\"action_type\") == \"review_view\").cast(pl.Int8).alias(\"action_type_review_view\"),\n",
    "                                                (pl.col(\"action_type\") == \"remove\").cast(pl.Int8).alias(\"action_type_remove\"),\n",
    "                                            )\n",
    "                                            .drop([\"action_type\"])\n",
    "                                            .group_by([\"user_id\",\"item_id\"])\n",
    "                                            .sum()\n",
    "                                            .drop([\"user_id\",\"item_id\"])\n",
    "                                            .with_columns(\n",
    "                                                pl.col(\"action_type_view_description\").cast(pl.Int16),\n",
    "                                                pl.col(\"action_type_to_cart\").cast(pl.Int16),\n",
    "                                                pl.col(\"action_type_page_view\").cast(pl.Int16),\n",
    "                                                pl.col(\"action_type_favorite\").cast(pl.Int16),\n",
    "                                                pl.col(\"action_type_unfavorite\").cast(pl.Int16),\n",
    "                                                pl.col(\"action_type_review_view\").cast(pl.Int16),\n",
    "                                                pl.col(\"action_type_remove\").cast(pl.Int16),\n",
    "                                            ))"
   ]
  },
  {
   "cell_type": "code",
   "execution_count": 9,
   "id": "06a56f7d",
   "metadata": {},
   "outputs": [
    {
     "data": {
      "text/plain": [
       "3832258"
      ]
     },
     "execution_count": 9,
     "metadata": {},
     "output_type": "execute_result"
    }
   ],
   "source": [
    "n_rows = aggregated_full_data.select(pl.count()).collect().item()\n",
    "n_rows"
   ]
  },
  {
   "cell_type": "code",
   "execution_count": 10,
   "id": "9fde9332",
   "metadata": {},
   "outputs": [
    {
     "name": "stderr",
     "output_type": "stream",
     "text": [
      "  0%|          | 0/4 [00:02<?, ?it/s]\n"
     ]
    },
    {
     "ename": "KeyboardInterrupt",
     "evalue": "",
     "output_type": "error",
     "traceback": [
      "\u001b[1;31m---------------------------------------------------------------------------\u001b[0m",
      "\u001b[1;31mKeyboardInterrupt\u001b[0m                         Traceback (most recent call last)",
      "Cell \u001b[1;32mIn[10], line 5\u001b[0m\n\u001b[0;32m      2\u001b[0m batch_size \u001b[38;5;241m=\u001b[39m \u001b[38;5;241m1_000_000\u001b[39m\n\u001b[0;32m      4\u001b[0m \u001b[38;5;28;01mfor\u001b[39;00m start \u001b[38;5;129;01min\u001b[39;00m tqdm(\u001b[38;5;28mrange\u001b[39m(\u001b[38;5;241m0\u001b[39m, n_rows, batch_size)):\n\u001b[1;32m----> 5\u001b[0m     batch \u001b[38;5;241m=\u001b[39m \u001b[43maggregated_full_data\u001b[49m\u001b[38;5;241;43m.\u001b[39;49m\u001b[43mslice\u001b[49m\u001b[43m(\u001b[49m\u001b[43mstart\u001b[49m\u001b[43m,\u001b[49m\u001b[43m \u001b[49m\u001b[43mbatch_size\u001b[49m\u001b[43m)\u001b[49m\u001b[38;5;241;43m.\u001b[39;49m\u001b[43mcollect\u001b[49m\u001b[43m(\u001b[49m\u001b[43m)\u001b[49m\n\u001b[0;32m      6\u001b[0m     batch\u001b[38;5;241m.\u001b[39mwrite_parquet(\u001b[38;5;124mf\u001b[39m\u001b[38;5;124m\"\u001b[39m\u001b[38;5;124m.\u001b[39m\u001b[38;5;130;01m\\\\\u001b[39;00m\u001b[38;5;124mdata\u001b[39m\u001b[38;5;130;01m\\\\\u001b[39;00m\u001b[38;5;124mtrain_log_reg_data\u001b[39m\u001b[38;5;130;01m\\\\\u001b[39;00m\u001b[38;5;124mbatch_\u001b[39m\u001b[38;5;132;01m{\u001b[39;00mstart\u001b[38;5;241m/\u001b[39m\u001b[38;5;241m/\u001b[39mbatch_size\u001b[38;5;132;01m}\u001b[39;00m\u001b[38;5;124m.parquet\u001b[39m\u001b[38;5;124m\"\u001b[39m)\n",
      "File \u001b[1;32m~\\AppData\\Roaming\\Python\\Python310\\site-packages\\polars\\_utils\\deprecation.py:97\u001b[0m, in \u001b[0;36mdeprecate_streaming_parameter.<locals>.decorate.<locals>.wrapper\u001b[1;34m(*args, **kwargs)\u001b[0m\n\u001b[0;32m     93\u001b[0m         kwargs[\u001b[38;5;124m\"\u001b[39m\u001b[38;5;124mengine\u001b[39m\u001b[38;5;124m\"\u001b[39m] \u001b[38;5;241m=\u001b[39m \u001b[38;5;124m\"\u001b[39m\u001b[38;5;124min-memory\u001b[39m\u001b[38;5;124m\"\u001b[39m\n\u001b[0;32m     95\u001b[0m     \u001b[38;5;28;01mdel\u001b[39;00m kwargs[\u001b[38;5;124m\"\u001b[39m\u001b[38;5;124mstreaming\u001b[39m\u001b[38;5;124m\"\u001b[39m]\n\u001b[1;32m---> 97\u001b[0m \u001b[38;5;28;01mreturn\u001b[39;00m function(\u001b[38;5;241m*\u001b[39margs, \u001b[38;5;241m*\u001b[39m\u001b[38;5;241m*\u001b[39mkwargs)\n",
      "File \u001b[1;32m~\\AppData\\Roaming\\Python\\Python310\\site-packages\\polars\\lazyframe\\opt_flags.py:330\u001b[0m, in \u001b[0;36mforward_old_opt_flags.<locals>.decorate.<locals>.wrapper\u001b[1;34m(*args, **kwargs)\u001b[0m\n\u001b[0;32m    327\u001b[0m         optflags \u001b[38;5;241m=\u001b[39m cb(optflags, kwargs\u001b[38;5;241m.\u001b[39mpop(key))  \u001b[38;5;66;03m# type: ignore[no-untyped-call,unused-ignore]\u001b[39;00m\n\u001b[0;32m    329\u001b[0m kwargs[\u001b[38;5;124m\"\u001b[39m\u001b[38;5;124moptimizations\u001b[39m\u001b[38;5;124m\"\u001b[39m] \u001b[38;5;241m=\u001b[39m optflags\n\u001b[1;32m--> 330\u001b[0m \u001b[38;5;28;01mreturn\u001b[39;00m function(\u001b[38;5;241m*\u001b[39margs, \u001b[38;5;241m*\u001b[39m\u001b[38;5;241m*\u001b[39mkwargs)\n",
      "File \u001b[1;32m~\\AppData\\Roaming\\Python\\Python310\\site-packages\\polars\\lazyframe\\frame.py:2335\u001b[0m, in \u001b[0;36mLazyFrame.collect\u001b[1;34m(self, type_coercion, predicate_pushdown, projection_pushdown, simplify_expression, slice_pushdown, comm_subplan_elim, comm_subexpr_elim, cluster_with_columns, collapse_joins, no_optimization, engine, background, optimizations, **_kwargs)\u001b[0m\n\u001b[0;32m   2333\u001b[0m \u001b[38;5;66;03m# Only for testing purposes\u001b[39;00m\n\u001b[0;32m   2334\u001b[0m callback \u001b[38;5;241m=\u001b[39m _kwargs\u001b[38;5;241m.\u001b[39mget(\u001b[38;5;124m\"\u001b[39m\u001b[38;5;124mpost_opt_callback\u001b[39m\u001b[38;5;124m\"\u001b[39m, callback)\n\u001b[1;32m-> 2335\u001b[0m \u001b[38;5;28;01mreturn\u001b[39;00m wrap_df(\u001b[43mldf\u001b[49m\u001b[38;5;241;43m.\u001b[39;49m\u001b[43mcollect\u001b[49m\u001b[43m(\u001b[49m\u001b[43mengine\u001b[49m\u001b[43m,\u001b[49m\u001b[43m \u001b[49m\u001b[43mcallback\u001b[49m\u001b[43m)\u001b[49m)\n",
      "\u001b[1;31mKeyboardInterrupt\u001b[0m: "
     ]
    }
   ],
   "source": [
    "from tqdm import tqdm\n",
    "batch_size = 1_000_000\n",
    "\n",
    "for start in tqdm(range(0, n_rows, batch_size)):\n",
    "    batch = aggregated_full_data.slice(start, batch_size).collect()\n",
    "    batch.write_parquet(f\".\\\\data\\\\train_log_reg_data\\\\batch_{start//batch_size}.parquet\")"
   ]
  },
  {
   "cell_type": "code",
   "execution_count": 9,
   "id": "875b86ea",
   "metadata": {},
   "outputs": [],
   "source": [
    "aggregated_full_data.collect().write_parquet(\".\\\\data\\\\train_log_reg_data\\\\data.parquet\")"
   ]
  },
  {
   "cell_type": "code",
   "execution_count": 49,
   "id": "bb12df52",
   "metadata": {},
   "outputs": [
    {
     "data": {
      "text/html": [
       "<div><style>\n",
       ".dataframe > thead > tr,\n",
       ".dataframe > tbody > tr {\n",
       "  text-align: right;\n",
       "  white-space: pre-wrap;\n",
       "}\n",
       "</style>\n",
       "<small>shape: (86_535, 11)</small><table border=\"1\" class=\"dataframe\"><thead><tr><th>created_timestamp</th><th>last_status</th><th>last_status_timestamp</th><th>created_date</th><th>action_type_view_description</th><th>action_type_to_cart</th><th>action_type_page_view</th><th>action_type_favorite</th><th>action_type_unfavorite</th><th>action_type_review_view</th><th>action_type_remove</th></tr><tr><td>datetime[ns]</td><td>str</td><td>datetime[ns]</td><td>str</td><td>i16</td><td>i16</td><td>i16</td><td>i16</td><td>i16</td><td>i16</td><td>i16</td></tr></thead><tbody><tr><td>null</td><td>null</td><td>null</td><td>null</td><td>0</td><td>0</td><td>1</td><td>0</td><td>0</td><td>0</td><td>0</td></tr><tr><td>null</td><td>null</td><td>null</td><td>null</td><td>23</td><td>3</td><td>18</td><td>1</td><td>0</td><td>11</td><td>0</td></tr><tr><td>null</td><td>null</td><td>null</td><td>null</td><td>0</td><td>1</td><td>5</td><td>0</td><td>0</td><td>0</td><td>0</td></tr><tr><td>null</td><td>null</td><td>null</td><td>null</td><td>0</td><td>1</td><td>4</td><td>0</td><td>0</td><td>0</td><td>0</td></tr><tr><td>null</td><td>null</td><td>null</td><td>null</td><td>4</td><td>1</td><td>8</td><td>1</td><td>0</td><td>0</td><td>0</td></tr><tr><td>&hellip;</td><td>&hellip;</td><td>&hellip;</td><td>&hellip;</td><td>&hellip;</td><td>&hellip;</td><td>&hellip;</td><td>&hellip;</td><td>&hellip;</td><td>&hellip;</td><td>&hellip;</td></tr><tr><td>null</td><td>null</td><td>null</td><td>null</td><td>2</td><td>2</td><td>6</td><td>0</td><td>0</td><td>0</td><td>1</td></tr><tr><td>null</td><td>null</td><td>null</td><td>null</td><td>0</td><td>2</td><td>15</td><td>0</td><td>0</td><td>0</td><td>1</td></tr><tr><td>null</td><td>null</td><td>null</td><td>null</td><td>16</td><td>1</td><td>15</td><td>1</td><td>1</td><td>7</td><td>0</td></tr><tr><td>null</td><td>null</td><td>null</td><td>null</td><td>0</td><td>1</td><td>1</td><td>0</td><td>0</td><td>0</td><td>1</td></tr><tr><td>null</td><td>null</td><td>null</td><td>null</td><td>0</td><td>0</td><td>3</td><td>0</td><td>0</td><td>4</td><td>0</td></tr></tbody></table></div>"
      ],
      "text/plain": [
       "shape: (86_535, 11)\n",
       "┌───────────┬───────────┬───────────┬───────────┬───┬───────────┬───────────┬───────────┬──────────┐\n",
       "│ created_t ┆ last_stat ┆ last_stat ┆ created_d ┆ … ┆ action_ty ┆ action_ty ┆ action_ty ┆ action_t │\n",
       "│ imestamp  ┆ us        ┆ us_timest ┆ ate       ┆   ┆ pe_favori ┆ pe_unfavo ┆ pe_review ┆ ype_remo │\n",
       "│ ---       ┆ ---       ┆ amp       ┆ ---       ┆   ┆ te        ┆ rite      ┆ _view     ┆ ve       │\n",
       "│ datetime[ ┆ str       ┆ ---       ┆ str       ┆   ┆ ---       ┆ ---       ┆ ---       ┆ ---      │\n",
       "│ ns]       ┆           ┆ datetime[ ┆           ┆   ┆ i16       ┆ i16       ┆ i16       ┆ i16      │\n",
       "│           ┆           ┆ ns]       ┆           ┆   ┆           ┆           ┆           ┆          │\n",
       "╞═══════════╪═══════════╪═══════════╪═══════════╪═══╪═══════════╪═══════════╪═══════════╪══════════╡\n",
       "│ null      ┆ null      ┆ null      ┆ null      ┆ … ┆ 0         ┆ 0         ┆ 0         ┆ 0        │\n",
       "│ null      ┆ null      ┆ null      ┆ null      ┆ … ┆ 1         ┆ 0         ┆ 11        ┆ 0        │\n",
       "│ null      ┆ null      ┆ null      ┆ null      ┆ … ┆ 0         ┆ 0         ┆ 0         ┆ 0        │\n",
       "│ null      ┆ null      ┆ null      ┆ null      ┆ … ┆ 0         ┆ 0         ┆ 0         ┆ 0        │\n",
       "│ null      ┆ null      ┆ null      ┆ null      ┆ … ┆ 1         ┆ 0         ┆ 0         ┆ 0        │\n",
       "│ …         ┆ …         ┆ …         ┆ …         ┆ … ┆ …         ┆ …         ┆ …         ┆ …        │\n",
       "│ null      ┆ null      ┆ null      ┆ null      ┆ … ┆ 0         ┆ 0         ┆ 0         ┆ 1        │\n",
       "│ null      ┆ null      ┆ null      ┆ null      ┆ … ┆ 0         ┆ 0         ┆ 0         ┆ 1        │\n",
       "│ null      ┆ null      ┆ null      ┆ null      ┆ … ┆ 1         ┆ 1         ┆ 7         ┆ 0        │\n",
       "│ null      ┆ null      ┆ null      ┆ null      ┆ … ┆ 0         ┆ 0         ┆ 0         ┆ 1        │\n",
       "│ null      ┆ null      ┆ null      ┆ null      ┆ … ┆ 0         ┆ 0         ┆ 4         ┆ 0        │\n",
       "└───────────┴───────────┴───────────┴───────────┴───┴───────────┴───────────┴───────────┴──────────┘"
      ]
     },
     "execution_count": 49,
     "metadata": {},
     "output_type": "execute_result"
    }
   ],
   "source": [
    "aggregated_full_data.collect()"
   ]
  },
  {
   "cell_type": "code",
   "execution_count": 43,
   "id": "e656c8c8",
   "metadata": {},
   "outputs": [
    {
     "data": {
      "text/html": [
       "<div><style>\n",
       ".dataframe > thead > tr,\n",
       ".dataframe > tbody > tr {\n",
       "  text-align: right;\n",
       "  white-space: pre-wrap;\n",
       "}\n",
       "</style>\n",
       "<small>shape: (1,)</small><table border=\"1\" class=\"dataframe\"><thead><tr><th>last_status</th></tr><tr><td>str</td></tr></thead><tbody><tr><td>null</td></tr></tbody></table></div>"
      ],
      "text/plain": [
       "shape: (1,)\n",
       "Series: 'last_status' [str]\n",
       "[\n",
       "\tnull\n",
       "]"
      ]
     },
     "execution_count": 43,
     "metadata": {},
     "output_type": "execute_result"
    }
   ],
   "source": [
    "aggregated_full_data.collect()[\"last_status\"].unique()"
   ]
  }
 ],
 "metadata": {
  "kernelspec": {
   "display_name": "Python 3 (ipykernel)",
   "language": "python",
   "name": "python3"
  },
  "language_info": {
   "codemirror_mode": {
    "name": "ipython",
    "version": 3
   },
   "file_extension": ".py",
   "mimetype": "text/x-python",
   "name": "python",
   "nbconvert_exporter": "python",
   "pygments_lexer": "ipython3",
   "version": "3.12.0"
  }
 },
 "nbformat": 4,
 "nbformat_minor": 5
}
